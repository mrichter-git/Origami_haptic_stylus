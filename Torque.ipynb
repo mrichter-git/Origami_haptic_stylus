{
 "cells": [
  {
   "cell_type": "code",
   "execution_count": 6,
   "id": "1bbb17a1-c7d9-449f-aa7f-756bb76cd874",
   "metadata": {},
   "outputs": [],
   "source": [
    "import math\n",
    "import numpy as np\n",
    "import matplotlib\n",
    "%matplotlib inline\n",
    "import matplotlib.pyplot as plt\n",
    "import scipy"
   ]
  },
  {
   "cell_type": "markdown",
   "id": "28f5091e-6428-4c25-a765-2a98ad5fbf7c",
   "metadata": {},
   "source": [
    "## Numerical values"
   ]
  },
  {
   "cell_type": "code",
   "execution_count": 27,
   "id": "37d2fd13-94bb-4358-9b19-56c3697725ab",
   "metadata": {},
   "outputs": [
    {
     "name": "stdout",
     "output_type": "stream",
     "text": [
      "0.00047638888888888877\n"
     ]
    }
   ],
   "source": [
    "F = 10 #[N]\n",
    "Larm = 14e-3 #[m]\n",
    "E_k = 2.5e9 #[Pa]\n",
    "w = 8e-3 #[m]\n",
    "t = 70e-6 #[m]\n",
    "l = 1.2e-3 #[m]\n",
    "\n",
    "\n",
    "k = E_k*w*t**3/(12*l) #[Nm]\n",
    "print(k)\n",
    "rest_angle = np.deg2rad(60)  # in rad but change value in degrees\n",
    "nb_arms = 4;\n",
    "MG_eff = 1/0.93 #Mitre gear efficiency\n",
    "\n",
    "alpha = np.linspace(0, np.pi/2, 100) "
   ]
  },
  {
   "cell_type": "markdown",
   "id": "0b15a9be-d008-4a04-8281-bff859571f02",
   "metadata": {},
   "source": [
    "## Torque calculation for geared transmission\n",
    "The first step is to calculate the torque at the foot of the arm"
   ]
  },
  {
   "cell_type": "code",
   "execution_count": 31,
   "id": "a33bc72f-bb20-4f39-9924-4cd49f2e48ce",
   "metadata": {},
   "outputs": [
    {
     "name": "stderr",
     "output_type": "stream",
     "text": [
      "No artists with labels found to put in legend.  Note that artists whose label start with an underscore are ignored when legend() is called with no argument.\n"
     ]
    },
    {
     "name": "stdout",
     "output_type": "stream",
     "text": [
      "The maximum torque seen by the motor shaft is 0.29681100969249136 Nm. \n",
      "\n",
      "That's 3.025596429077384 in kgcm\n"
     ]
    },
    {
     "data": {
      "image/png": "[encoded data removed]",
      "text/plain": [
       "<Figure size 432x288 with 1 Axes>"
      ]
     },
     "metadata": {
      "needs_background": "light"
     },
     "output_type": "display_data"
    }
   ],
   "source": [
    "#Effective force on the end-effector\n",
    "Fe = (F)\n",
    "\n",
    "#Torque = J*F\n",
    "T1 = np.cos(alpha)*2*Larm*Fe + 8*k*(alpha-rest_angle)\n",
    "\n",
    "\n",
    "#motor shaft torque\n",
    "T = (T1 * MG_eff)\n",
    "\n",
    "#plot and print max\n",
    "print(\"The maximum torque seen by the motor shaft is {} Nm. \\n\".format(np.max(np.abs(T))))\n",
    "print(\"That's {} in kgcm\".format(np.max(np.abs(T))*100/g))\n",
    "\n",
    "plt.plot(np.rad2deg(alpha),T,label='_Torque')\n",
    "plt.legend()\n",
    "\n",
    "plt.xlabel('Angle of the arm[degrees]')\n",
    "plt.ylabel('Torque[Nm]')\n",
    "\n",
    "plt.show()"
   ]
  },
  {
   "cell_type": "markdown",
   "id": "0d010b61-0a4e-4b07-a154-e67cc7707c0f",
   "metadata": {},
   "source": [
    "## Torque for cable driven mechanism\n"
   ]
  },
  {
   "cell_type": "code",
   "execution_count": null,
   "id": "00ce3a92-c374-4a7a-819f-4d118ea8d00e",
   "metadata": {},
   "outputs": [],
   "source": [
    "#Effective force on the end-effector\n",
    "l_spring_eq = 2*np.sin(rest_angle)*Larm\n",
    "l_spring = 2*np.sin(alpha)*Larm\n",
    "Fe = (F - k*(l_spring_eq - l_spring) - tip_mass*g)/nb_arms\n",
    "\n",
    "#Elbow displacement "
   ]
  }
 ],
 "metadata": {
  "kernelspec": {
   "display_name": "Python 3 (ipykernel)",
   "language": "python",
   "name": "python3"
  },
  "language_info": {
   "codemirror_mode": {
    "name": "ipython",
    "version": 3
   },
   "file_extension": ".py",
   "mimetype": "text/x-python",
   "name": "python",
   "nbconvert_exporter": "python",
   "pygments_lexer": "ipython3",
   "version": "3.8.12"
  }
 },
 "nbformat": 4,
 "nbformat_minor": 5
}
